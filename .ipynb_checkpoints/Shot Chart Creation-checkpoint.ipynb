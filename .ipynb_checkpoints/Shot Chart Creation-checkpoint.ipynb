{
 "cells": [
  {
   "cell_type": "code",
   "execution_count": 4,
   "metadata": {
    "scrolled": true
   },
   "outputs": [],
   "source": [
    "# Import packages\n",
    "from nba_api.stats.endpoints import shotchartdetail\n",
    "import json\n",
    "import requests\n",
    "import pandas as pd\n",
    "import matplotlib as mpl\n",
    "import matplotlib.pyplot as plt"
   ]
  },
  {
   "cell_type": "code",
   "execution_count": 5,
   "metadata": {},
   "outputs": [],
   "source": [
    "# Load teams file\n",
    "teams = json.loads(requests.get('https://raw.githubusercontent.com/bttmly/nba/master/data/teams.json').text)\n",
    "# Load players file\n",
    "players = json.loads(requests.get('https://raw.githubusercontent.com/bttmly/nba/master/data/players.json').text)"
   ]
  },
  {
   "cell_type": "code",
   "execution_count": 6,
   "metadata": {},
   "outputs": [],
   "source": [
    "# Get team ID based on team name\n",
    "def get_team_id(team):\n",
    "  for team in teams:\n",
    "    if team['teamName'] == team:\n",
    "      return team['teamId']\n",
    "  return -1\n",
    "# Get player ID based on player name\n",
    "def get_player_id(first, last):\n",
    "  for player in players:\n",
    "    if player['firstName'] == first and player['lastName'] == last:\n",
    "      return player['playerId']\n",
    "  return -1"
   ]
  },
  {
   "cell_type": "code",
   "execution_count": 8,
   "metadata": {},
   "outputs": [
    {
     "data": {
      "text/plain": [
       "202691"
      ]
     },
     "execution_count": 8,
     "metadata": {},
     "output_type": "execute_result"
    }
   ],
   "source": [
    "# Get the team ID number for the Knicks\n",
    "get_team_id('Golden State Warriors')\n",
    "\n",
    "\n",
    "# Get the player ID number for Klay Thompson\n",
    "get_player_id('Klay', 'Thompson')\n"
   ]
  },
  {
   "cell_type": "code",
   "execution_count": null,
   "metadata": {},
   "outputs": [],
   "source": []
  },
  {
   "cell_type": "code",
   "execution_count": null,
   "metadata": {},
   "outputs": [],
   "source": []
  }
 ],
 "metadata": {
  "kernelspec": {
   "display_name": "Python 3",
   "language": "python",
   "name": "python3"
  },
  "language_info": {
   "codemirror_mode": {
    "name": "ipython",
    "version": 3
   },
   "file_extension": ".py",
   "mimetype": "text/x-python",
   "name": "python",
   "nbconvert_exporter": "python",
   "pygments_lexer": "ipython3",
   "version": "3.8.5"
  }
 },
 "nbformat": 4,
 "nbformat_minor": 4
}
